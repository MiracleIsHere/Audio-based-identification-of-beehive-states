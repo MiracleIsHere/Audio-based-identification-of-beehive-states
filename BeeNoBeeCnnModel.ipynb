{
  "cells": [
    {
      "cell_type": "markdown",
      "metadata": {
        "id": "ehMhoyZsnntA"
      },
      "source": [
        "# Bee NoBee Sound Classification - CNN Model"
      ]
    },
    {
      "cell_type": "markdown",
      "metadata": {
        "id": "JaMTrEFonntG"
      },
      "source": [
        "## Fetch Processed Data"
      ]
    },
    {
      "cell_type": "code",
      "execution_count": null,
      "metadata": {
        "id": "tA_zGJTRf_gC"
      },
      "outputs": [],
      "source": [
        "import numpy as np\n",
        "from numpy import genfromtxt\n"
      ]
    },
    {
      "cell_type": "markdown",
      "metadata": {
        "id": "3NPNnmmunntI"
      },
      "source": [
        "### Transformed"
      ]
    },
    {
      "cell_type": "code",
      "execution_count": null,
      "metadata": {
        "id": "5uRr-bWZWzAD"
      },
      "outputs": [],
      "source": [
        "# extracting data from csv files into numpy arrays\n",
        "x_train = genfromtxt('Data Urban Save/train_data.csv', delimiter=',')\n",
        "y_train = genfromtxt('Data Urban Save/train_labels.csv', delimiter=',')\n",
        "x_test = genfromtxt('Data Urban Save/test_data.csv', delimiter=',')\n",
        "y_test = genfromtxt('Data Urban Save/test_labels.csv', delimiter=',')\n"
      ]
    },
    {
      "cell_type": "code",
      "execution_count": null,
      "metadata": {
        "id": "UDbtZ-GaXEXS"
      },
      "outputs": [],
      "source": [
        "# converting to one hot\n",
        "from keras.utils.np_utils import to_categorical\n",
        "y_train = to_categorical(y_train)\n",
        "y_test = to_categorical(y_test)\n",
        "y_train.shape, y_test.shape\n"
      ]
    },
    {
      "cell_type": "markdown",
      "metadata": {
        "id": "sbtY3BaOnntJ"
      },
      "source": [
        "###  Not Transformed"
      ]
    },
    {
      "cell_type": "code",
      "execution_count": null,
      "metadata": {
        "id": "EWj5TsdgnntJ"
      },
      "outputs": [],
      "source": [
        "# extracting data from csv files into numpy arrays\n",
        "x_train = genfromtxt('Data Urban Save/train_merged_data.csv', delimiter=',')\n",
        "y_train = genfromtxt('Data Urban Save/train_merged_labels.csv',\n",
        "                     delimiter=',', dtype=('<U5'))\n",
        "x_test = genfromtxt('Data Urban Save/test_merged_data.csv', delimiter=',')\n",
        "y_test = genfromtxt('Data Urban Save/test_merged_labels.csv',\n",
        "                    delimiter=',', dtype=('<U5'))\n"
      ]
    },
    {
      "cell_type": "code",
      "execution_count": null,
      "metadata": {
        "id": "3qh-0JZ0nntK",
        "outputId": "a04f15d3-91b7-4538-8ce7-3b96866279fa"
      },
      "outputs": [
        {
          "data": {
            "text/plain": [
              "(Counter({'NoBee': 7895, 'Bee': 7337}), Counter({'NoBee': 837, 'Bee': 907}))"
            ]
          },
          "execution_count": 6,
          "metadata": {},
          "output_type": "execute_result"
        }
      ],
      "source": [
        "from collections import Counter\n",
        "Counter(list(y_train)),Counter(list(y_test))"
      ]
    },
    {
      "cell_type": "code",
      "execution_count": null,
      "metadata": {
        "id": "2Kr7JtvmnntL"
      },
      "outputs": [],
      "source": [
        "from keras.utils.np_utils import to_categorical\n",
        "from sklearn.preprocessing import LabelEncoder\n",
        "labelencoder = LabelEncoder()\n",
        "labelencoder.fit(y_train)\n",
        "y_train = to_categorical(labelencoder.transform(y_train))\n",
        "y_test = to_categorical(labelencoder.transform(y_test))\n"
      ]
    },
    {
      "cell_type": "markdown",
      "metadata": {
        "id": "IK2grtF1nntL"
      },
      "source": [
        "### Main"
      ]
    },
    {
      "cell_type": "code",
      "execution_count": null,
      "metadata": {
        "colab": {
          "base_uri": "https://localhost:8080/",
          "height": 34
        },
        "id": "sUE1btJWW3bw",
        "outputId": "f74bc8b1-fee5-4efd-b851-b2337f69afb9"
      },
      "outputs": [
        {
          "data": {
            "text/plain": [
              "((15232, 200), (1744, 200), (15232, 2), (1744, 2))"
            ]
          },
          "execution_count": 32,
          "metadata": {},
          "output_type": "execute_result"
        }
      ],
      "source": [
        "# shape\n",
        "x_train.shape, x_test.shape, y_train.shape, y_test.shape\n"
      ]
    },
    {
      "cell_type": "code",
      "execution_count": null,
      "metadata": {
        "colab": {
          "base_uri": "https://localhost:8080/",
          "height": 34
        },
        "id": "Q53NwQLeYJSf",
        "outputId": "b4359c57-b041-4e06-e40f-c671eb33a882"
      },
      "outputs": [
        {
          "data": {
            "text/plain": [
              "((15232, 40, 5), (1744, 40, 5))"
            ]
          },
          "execution_count": 33,
          "metadata": {},
          "output_type": "execute_result"
        }
      ],
      "source": [
        "# reshaping to 2D\n",
        "x_train = np.reshape(x_train, (x_train.shape[0], 40, 5))\n",
        "x_test = np.reshape(x_test, (x_test.shape[0], 40, 5))\n",
        "x_train.shape, x_test.shape\n"
      ]
    },
    {
      "cell_type": "code",
      "execution_count": null,
      "metadata": {
        "id": "15K2y9sUgn_L"
      },
      "outputs": [],
      "source": [
        "# reshaping to shape required by CNN\n",
        "x_train = np.reshape(x_train, (x_train.shape[0], 40, 5, 1))\n",
        "x_test = np.reshape(x_test, (x_test.shape[0], 40, 5, 1))\n"
      ]
    },
    {
      "cell_type": "code",
      "execution_count": null,
      "metadata": {
        "colab": {
          "base_uri": "https://localhost:8080/",
          "height": 34
        },
        "id": "CgeQAvcdgtwn",
        "outputId": "fb3d635b-1da0-4c3d-f17f-50c9619cf9da"
      },
      "outputs": [
        {
          "data": {
            "text/plain": [
              "((15232, 40, 5, 1), (1744, 40, 5, 1))"
            ]
          },
          "execution_count": 35,
          "metadata": {},
          "output_type": "execute_result"
        }
      ],
      "source": [
        "# shapes\n",
        "x_train.shape, x_test.shape\n"
      ]
    },
    {
      "cell_type": "markdown",
      "metadata": {
        "id": "lgY7WvpVnntN"
      },
      "source": [
        "## Build Model"
      ]
    },
    {
      "cell_type": "code",
      "execution_count": null,
      "metadata": {
        "id": "3bQ2gHc8f9n4"
      },
      "outputs": [],
      "source": [
        "from keras import Sequential\n",
        "from keras.layers import Dense, Conv2D, MaxPooling2D, Flatten, Dropout\n"
      ]
    },
    {
      "cell_type": "code",
      "execution_count": null,
      "metadata": {
        "id": "SyjNa0N0gGlY"
      },
      "outputs": [],
      "source": [
        "# forming model\n",
        "model = Sequential()\n"
      ]
    },
    {
      "cell_type": "code",
      "execution_count": null,
      "metadata": {
        "id": "fUJUiyVTgkGZ"
      },
      "outputs": [],
      "source": [
        "# adding layers and forming the model\n",
        "model.add(Conv2D(64, kernel_size=5, strides=1, padding=\"Same\",\n",
        "          activation=\"relu\", input_shape=(40, 5, 1)))\n",
        "model.add(MaxPooling2D(padding=\"same\"))\n",
        "\n",
        "model.add(Conv2D(128, kernel_size=5, strides=1,\n",
        "          padding=\"same\", activation=\"relu\"))\n",
        "model.add(MaxPooling2D(padding=\"same\"))\n",
        "model.add(Dropout(0.3))\n",
        "\n",
        "model.add(Flatten())\n",
        "\n",
        "model.add(Dense(256, activation=\"relu\"))\n",
        "model.add(Dropout(0.3))\n",
        "\n",
        "model.add(Dense(512, activation=\"relu\"))\n",
        "model.add(Dropout(0.3))\n",
        "\n",
        "model.add(Dense(2, activation=\"sigmoid\"))\n"
      ]
    },
    {
      "cell_type": "code",
      "execution_count": null,
      "metadata": {
        "id": "ZHek_bnng3xp"
      },
      "outputs": [],
      "source": [
        "# compiling\n",
        "model.compile(optimizer=\"adam\", loss=\"binary_crossentropy\",\n",
        "              metrics=[\"accuracy\"])\n"
      ]
    },
    {
      "cell_type": "markdown",
      "metadata": {
        "id": "8CGCWed1nntP"
      },
      "source": [
        "## Training"
      ]
    },
    {
      "cell_type": "code",
      "execution_count": null,
      "metadata": {
        "id": "EZ1Y-CJHnntP",
        "outputId": "bb3d89d9-c53f-4a26-e6b7-641036bb1f54"
      },
      "outputs": [
        {
          "name": "stdout",
          "output_type": "stream",
          "text": [
            "Epoch 1/30\n",
            "305/305 [==============================] - 11s 35ms/step - loss: 0.1540 - accuracy: 0.9487 - val_loss: 0.0375 - val_accuracy: 0.9903\n",
            "Epoch 2/30\n",
            "305/305 [==============================] - 10s 34ms/step - loss: 0.0357 - accuracy: 0.9892 - val_loss: 0.0284 - val_accuracy: 0.9908\n",
            "Epoch 3/30\n",
            "305/305 [==============================] - 11s 36ms/step - loss: 0.0248 - accuracy: 0.9934 - val_loss: 0.0048 - val_accuracy: 0.9989\n",
            "Epoch 4/30\n",
            "305/305 [==============================] - 11s 36ms/step - loss: 0.0215 - accuracy: 0.9940 - val_loss: 0.0096 - val_accuracy: 0.9966\n",
            "Epoch 5/30\n",
            "305/305 [==============================] - 13s 43ms/step - loss: 0.0173 - accuracy: 0.9955 - val_loss: 0.0284 - val_accuracy: 0.9914\n",
            "Epoch 6/30\n",
            "305/305 [==============================] - 11s 37ms/step - loss: 0.0190 - accuracy: 0.9958 - val_loss: 0.0071 - val_accuracy: 0.9989\n",
            "Epoch 7/30\n",
            "305/305 [==============================] - 10s 34ms/step - loss: 0.0162 - accuracy: 0.9953 - val_loss: 0.0250 - val_accuracy: 0.9920\n",
            "Epoch 8/30\n",
            "305/305 [==============================] - 11s 35ms/step - loss: 0.0141 - accuracy: 0.9961 - val_loss: 0.0545 - val_accuracy: 0.9862\n",
            "Epoch 9/30\n",
            "305/305 [==============================] - 11s 36ms/step - loss: 0.0097 - accuracy: 0.9974 - val_loss: 0.0120 - val_accuracy: 0.9954\n",
            "Epoch 10/30\n",
            "305/305 [==============================] - 11s 36ms/step - loss: 0.0129 - accuracy: 0.9959 - val_loss: 0.0107 - val_accuracy: 0.9977\n",
            "Epoch 11/30\n",
            "305/305 [==============================] - 11s 36ms/step - loss: 0.0161 - accuracy: 0.9959 - val_loss: 0.0139 - val_accuracy: 0.9983\n",
            "Epoch 12/30\n",
            "305/305 [==============================] - 11s 36ms/step - loss: 0.0139 - accuracy: 0.9970 - val_loss: 0.0062 - val_accuracy: 0.9989\n",
            "Epoch 13/30\n",
            "305/305 [==============================] - 11s 36ms/step - loss: 0.0071 - accuracy: 0.9979 - val_loss: 0.0330 - val_accuracy: 0.9971\n",
            "Epoch 14/30\n",
            "305/305 [==============================] - 11s 36ms/step - loss: 0.0117 - accuracy: 0.9969 - val_loss: 0.0129 - val_accuracy: 0.9983\n",
            "Epoch 15/30\n",
            "305/305 [==============================] - 11s 37ms/step - loss: 0.0070 - accuracy: 0.9978 - val_loss: 0.0123 - val_accuracy: 0.9977\n",
            "Epoch 16/30\n",
            "305/305 [==============================] - 11s 37ms/step - loss: 0.0132 - accuracy: 0.9963 - val_loss: 0.0122 - val_accuracy: 0.9977\n",
            "Epoch 17/30\n",
            "305/305 [==============================] - 11s 36ms/step - loss: 0.0080 - accuracy: 0.9980 - val_loss: 0.0124 - val_accuracy: 0.9983\n",
            "Epoch 18/30\n",
            "305/305 [==============================] - 11s 36ms/step - loss: 0.0060 - accuracy: 0.9983 - val_loss: 0.0107 - val_accuracy: 0.9983\n",
            "Epoch 19/30\n",
            "305/305 [==============================] - 11s 36ms/step - loss: 0.0035 - accuracy: 0.9989 - val_loss: 0.0117 - val_accuracy: 0.9977\n",
            "Epoch 20/30\n",
            "305/305 [==============================] - 11s 36ms/step - loss: 0.0060 - accuracy: 0.9985 - val_loss: 0.0101 - val_accuracy: 0.9989\n",
            "Epoch 21/30\n",
            "305/305 [==============================] - 11s 36ms/step - loss: 0.0054 - accuracy: 0.9984 - val_loss: 0.0205 - val_accuracy: 0.9989\n",
            "Epoch 22/30\n",
            "305/305 [==============================] - 11s 36ms/step - loss: 0.0145 - accuracy: 0.9976 - val_loss: 0.0072 - val_accuracy: 0.9994\n",
            "Epoch 23/30\n",
            "305/305 [==============================] - 11s 36ms/step - loss: 0.0172 - accuracy: 0.9968 - val_loss: 0.0123 - val_accuracy: 0.9971\n",
            "Epoch 24/30\n",
            "305/305 [==============================] - 11s 36ms/step - loss: 0.0090 - accuracy: 0.9976 - val_loss: 0.0127 - val_accuracy: 0.9983\n",
            "Epoch 25/30\n",
            "305/305 [==============================] - 11s 35ms/step - loss: 0.0039 - accuracy: 0.9991 - val_loss: 0.0105 - val_accuracy: 0.9989\n",
            "Epoch 26/30\n",
            "305/305 [==============================] - 11s 36ms/step - loss: 0.0035 - accuracy: 0.9990 - val_loss: 0.0134 - val_accuracy: 0.9994\n",
            "Epoch 27/30\n",
            "305/305 [==============================] - 11s 36ms/step - loss: 0.0020 - accuracy: 0.9993 - val_loss: 0.0205 - val_accuracy: 0.9989\n",
            "Epoch 28/30\n",
            "305/305 [==============================] - 11s 36ms/step - loss: 0.0070 - accuracy: 0.9983 - val_loss: 0.0225 - val_accuracy: 0.9989\n",
            "Epoch 29/30\n",
            "305/305 [==============================] - 11s 36ms/step - loss: 0.0118 - accuracy: 0.9978 - val_loss: 0.0177 - val_accuracy: 0.9983\n",
            "Epoch 30/30\n",
            "305/305 [==============================] - 11s 36ms/step - loss: 0.0050 - accuracy: 0.9982 - val_loss: 0.0073 - val_accuracy: 0.9994\n"
          ]
        },
        {
          "data": {
            "text/plain": [
              "<keras.callbacks.History at 0x2895b506f50>"
            ]
          },
          "execution_count": 49,
          "metadata": {},
          "output_type": "execute_result"
        }
      ],
      "source": [
        "# training the model\n",
        "model.fit(x_train, y_train, batch_size=50, epochs=30,\n",
        "          validation_data=(x_test, y_test))\n"
      ]
    },
    {
      "cell_type": "markdown",
      "metadata": {
        "id": "p_h52ByknntP"
      },
      "source": [
        "## Results"
      ]
    },
    {
      "cell_type": "code",
      "execution_count": null,
      "metadata": {
        "colab": {
          "base_uri": "https://localhost:8080/",
          "height": 85
        },
        "id": "N1Rp9FTYhBpZ",
        "outputId": "8ac2e5be-314a-4284-ea31-ddbfeda1d4de"
      },
      "outputs": [
        {
          "name": "stdout",
          "output_type": "stream",
          "text": [
            "476/476 [==============================] - 3s 7ms/step - loss: 2.3202e-04 - accuracy: 0.9999\n",
            "55/55 [==============================] - 0s 6ms/step - loss: 0.0073 - accuracy: 0.9994\n",
            "[0.0002320154308108613, 0.9999343752861023]\n",
            "[0.007328568957746029, 0.9994266033172607]\n"
          ]
        }
      ],
      "source": [
        "# train and test loss and scores respectively\n",
        "train_loss_score = model.evaluate(x_train, y_train)\n",
        "test_loss_score = model.evaluate(x_test, y_test)\n",
        "print(train_loss_score)\n",
        "print(test_loss_score)\n"
      ]
    },
    {
      "cell_type": "code",
      "execution_count": null,
      "metadata": {
        "id": "tpl2UPmKnntQ",
        "outputId": "51cedf41-c707-44a4-ba65-d34073205aca"
      },
      "outputs": [
        {
          "name": "stdout",
          "output_type": "stream",
          "text": [
            "55/55 [==============================] - 0s 6ms/step\n"
          ]
        }
      ],
      "source": [
        "results = model.predict(x_test)\n"
      ]
    },
    {
      "cell_type": "code",
      "execution_count": null,
      "metadata": {
        "id": "DqVRUmgZnntQ",
        "outputId": "b4be6ba4-cb33-4b11-f5df-fae61267e66c"
      },
      "outputs": [
        {
          "data": {
            "image/png": "[encoded data removed]",
            "text/plain": [
              "<Figure size 432x288 with 2 Axes>"
            ]
          },
          "metadata": {
            "needs_background": "light"
          },
          "output_type": "display_data"
        }
      ],
      "source": [
        "import numpy as np\n",
        "import matplotlib.pyplot as plt\n",
        "from sklearn.metrics import confusion_matrix\n",
        "import itertools\n",
        "\n",
        "\n",
        "def plot_confusion_matrix(cm, classes,\n",
        "                          normalize=False,\n",
        "                          title='Confusion matrix',\n",
        "                          cmap=plt.cm.Blues):\n",
        "\n",
        "    plt.imshow(cm, interpolation='nearest', cmap=cmap)\n",
        "    plt.title(title)\n",
        "    plt.colorbar()\n",
        "    tick_marks = np.arange(len(classes))\n",
        "    plt.xticks(tick_marks, classes, rotation=45)\n",
        "    plt.yticks(tick_marks, classes)\n",
        "\n",
        "    if normalize:\n",
        "        cm = cm.astype('float') / cm.sum(axis=1)[:, np.newaxis]\n",
        "\n",
        "    thresh = cm.max() / 2.\n",
        "    for i, j in itertools.product(range(cm.shape[0]), range(cm.shape[1])):\n",
        "        plt.text(j, i, cm[i, j],\n",
        "                 horizontalalignment=\"center\",\n",
        "                 color=\"white\" if cm[i, j] > thresh else \"black\")\n",
        "\n",
        "    plt.tight_layout()\n",
        "    plt.ylabel('True label')\n",
        "    plt.xlabel('Predicted label')\n",
        "\n",
        "\n",
        "Y_pred_classes = np.argmax(results, axis=1)\n",
        "Y_true = np.argmax(y_test, axis=1)\n",
        "confusion_mtx = confusion_matrix(Y_true, Y_pred_classes)\n",
        "plot_confusion_matrix(confusion_mtx, classes=range(2))\n"
      ]
    },
    {
      "cell_type": "markdown",
      "metadata": {
        "id": "NEX_KwGHnntQ"
      },
      "source": [
        "## Saving"
      ]
    },
    {
      "cell_type": "code",
      "execution_count": null,
      "metadata": {
        "id": "MTzLrAyznntQ",
        "outputId": "eb6855f1-0883-46e8-d213-2a59689b050e"
      },
      "outputs": [
        {
          "name": "stderr",
          "output_type": "stream",
          "text": [
            "WARNING:absl:Found untraced functions such as _jit_compiled_convolution_op, _jit_compiled_convolution_op while saving (showing 2 of 2). These functions will not be directly callable after loading.\n"
          ]
        },
        {
          "name": "stdout",
          "output_type": "stream",
          "text": [
            "INFO:tensorflow:Assets written to: BeeNoBeeModel\\assets\n"
          ]
        },
        {
          "name": "stderr",
          "output_type": "stream",
          "text": [
            "INFO:tensorflow:Assets written to: BeeNoBeeModel\\assets\n"
          ]
        }
      ],
      "source": [
        "model.save('BeeNoBeeModel')\n"
      ]
    }
  ],
  "metadata": {
    "accelerator": "GPU",
    "colab": {
      "provenance": []
    },
    "kernelspec": {
      "display_name": "Python 3",
      "language": "python",
      "name": "python3"
    },
    "language_info": {
      "codemirror_mode": {
        "name": "ipython",
        "version": 3
      },
      "file_extension": ".py",
      "mimetype": "text/x-python",
      "name": "python",
      "nbconvert_exporter": "python",
      "pygments_lexer": "ipython3",
      "version": "3.10.2 (tags/v3.10.2:a58ebcc, Jan 17 2022, 14:12:15) [MSC v.1929 64 bit (AMD64)]"
    },
    "vscode": {
      "interpreter": {
        "hash": "26de051ba29f2982a8de78e945f0abaf191376122a1563185a90213a26c5da77"
      }
    }
  },
  "nbformat": 4,
  "nbformat_minor": 0
}